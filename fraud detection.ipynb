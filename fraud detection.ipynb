{
  "cells": [
    {
      "cell_type": "code",
      "execution_count": 1,
      "metadata": {
        "id": "LiqcBeGyK3Ef"
      },
      "outputs": [],
      "source": [
        "import tensorflow as tf\n",
        "from tensorflow.keras import layers\n",
        "import numpy as np\n",
        "import pandas as pd\n",
        "import matplotlib.pyplot as plt\n",
        "from sklearn.preprocessing import StandardScaler\n"
      ]
    },
    {
      "cell_type": "code",
      "execution_count": 2,
      "metadata": {
        "id": "8-hKFC1auEPe"
      },
      "outputs": [],
      "source": [
        "data = pd.read_csv('/content/creditcard.csv')\n",
        "scaler = StandardScaler()\n",
        "data['scaled_amount'] = scaler.fit_transform(data['Amount'].values.reshape(-1, 1))\n",
        "data['scaled_time'] = scaler.fit_transform(data['Time'].values.reshape(-1, 1))\n",
        "data = data.drop(['Time', 'Amount'], axis=1)"
      ]
    },
    {
      "cell_type": "code",
      "execution_count": null,
      "metadata": {},
      "outputs": [],
      "source": [
        "fraud = data[data['Class'] == 1]\n",
        "non_fraud = data[data['Class'] == 0]"
      ]
    },
    {
      "cell_type": "code",
      "execution_count": 13,
      "metadata": {
        "colab": {
          "base_uri": "https://localhost:8080/",
          "height": 178
        },
        "id": "A40eIwBPyIbi",
        "outputId": "41efd8be-a640-4769-8d14-860b5493e5d7"
      },
      "outputs": [
        {
          "data": {
            "text/html": [
              "<div>\n",
              "<style scoped>\n",
              "    .dataframe tbody tr th:only-of-type {\n",
              "        vertical-align: middle;\n",
              "    }\n",
              "\n",
              "    .dataframe tbody tr th {\n",
              "        vertical-align: top;\n",
              "    }\n",
              "\n",
              "    .dataframe thead th {\n",
              "        text-align: right;\n",
              "    }\n",
              "</style>\n",
              "<table border=\"1\" class=\"dataframe\">\n",
              "  <thead>\n",
              "    <tr style=\"text-align: right;\">\n",
              "      <th></th>\n",
              "      <th>count</th>\n",
              "    </tr>\n",
              "    <tr>\n",
              "      <th>Class</th>\n",
              "      <th></th>\n",
              "    </tr>\n",
              "  </thead>\n",
              "  <tbody>\n",
              "    <tr>\n",
              "      <th>0.0</th>\n",
              "      <td>1983</td>\n",
              "    </tr>\n",
              "    <tr>\n",
              "      <th>1.0</th>\n",
              "      <td>2</td>\n",
              "    </tr>\n",
              "  </tbody>\n",
              "</table>\n",
              "</div><br><label><b>dtype:</b> int64</label>"
            ],
            "text/plain": [
              "Class\n",
              "0.0    1983\n",
              "1.0       2\n",
              "Name: count, dtype: int64"
            ]
          },
          "execution_count": 13,
          "metadata": {},
          "output_type": "execute_result"
        }
      ],
      "source": [
        "data['Class'].value_counts()"
      ]
    },
    {
      "cell_type": "code",
      "execution_count": 3,
      "metadata": {
        "id": "r143XATSwVOd"
      },
      "outputs": [],
      "source": [
        "#generator\n",
        "def build_generator(latent_dim, output_dim):\n",
        "    model = tf.keras.Sequential([\n",
        "        layers.Dense(128, activation=\"relu\", input_dim=latent_dim),\n",
        "        layers.Dense(256, activation=\"relu\"),\n",
        "        layers.Dense(output_dim, activation=\"tanh\")\n",
        "    ])\n",
        "    return model\n",
        "\n",
        "# discriminator\n",
        "def build_discriminator(input_dim):\n",
        "    model = tf.keras.Sequential([\n",
        "        layers.Dense(256, activation=\"leaky_relu\", input_dim=input_dim),\n",
        "        layers.Dense(128, activation=\"leaky_relu\"),\n",
        "        layers.Dense(1, activation=\"sigmoid\")\n",
        "    ])\n",
        "    return model\n"
      ]
    },
    {
      "cell_type": "code",
      "execution_count": 5,
      "metadata": {
        "id": "CQyWgm4UwapZ"
      },
      "outputs": [],
      "source": [
        "latent_dim = 100\n",
        "feature_size = fraud.drop('Class', axis=1).shape[1]\n",
        "\n",
        "# Build models\n",
        "generator = build_generator(latent_dim, feature_size)\n",
        "discriminator = build_discriminator(feature_size)\n",
        "\n",
        "# Compile the discriminator\n",
        "discriminator.compile(loss=\"binary_crossentropy\", optimizer=tf.keras.optimizers.Adam(learning_rate=0.0002), metrics=[\"accuracy\"])\n",
        "\n",
        "# The GAN model combines the generator and the discriminator\n",
        "discriminator.trainable = False\n",
        "gan_input = layers.Input(shape=(latent_dim,))\n",
        "generated_data = generator(gan_input)\n",
        "gan_output = discriminator(generated_data)\n",
        "\n",
        "gan = tf.keras.Model(gan_input, gan_output)\n",
        "gan.compile(loss=\"binary_crossentropy\", optimizer=tf.keras.optimizers.Adam(learning_rate=0.0002))\n"
      ]
    },
    {
      "cell_type": "code",
      "execution_count": 6,
      "metadata": {
        "id": "tifSFo7GwlJq"
      },
      "outputs": [],
      "source": [
        "# GAN\n",
        "def train_gan(generator, discriminator, gan, fraud_data, latent_dim, epochs=200, batch_size=32):\n",
        "    X_train = fraud_data.drop('Class', axis=1).values\n",
        "    half_batch = int(batch_size / 2)\n",
        "\n",
        "    for epoch in range(epochs):\n",
        "        # Train discriminator\n",
        "        idx = np.random.randint(0, X_train.shape[0], half_batch)\n",
        "        real_data = X_train[idx]\n",
        "\n",
        "        noise = np.random.normal(0, 1, (half_batch, latent_dim))\n",
        "        generated_data = generator.predict(noise)\n",
        "\n",
        "        real_labels = np.ones((half_batch, 1))\n",
        "        fake_labels = np.zeros((half_batch, 1))\n",
        "\n",
        "        d_loss_real = discriminator.train_on_batch(real_data, real_labels)\n",
        "        d_loss_fake = discriminator.train_on_batch(generated_data, fake_labels)\n",
        "        d_loss = 0.5 * np.add(d_loss_real, d_loss_fake)\n",
        "\n",
        "        # Train generator\n",
        "        noise = np.random.normal(0, 1, (batch_size, latent_dim))\n",
        "        valid_y = np.ones((batch_size, 1))\n",
        "\n",
        "        g_loss = gan.train_on_batch(noise, valid_y)\n",
        "\n",
        "        # Print losses\n",
        "        if (epoch + 1) % 10 == 0:\n",
        "            print(f\"Epoch {epoch + 1}/{epochs}, D Loss: {d_loss[0]}, G Loss: {g_loss}\")\n"
      ]
    },
    {
      "cell_type": "code",
      "execution_count": 16,
      "metadata": {
        "colab": {
          "base_uri": "https://localhost:8080/"
        },
        "id": "VhCqmygOwm6E",
        "outputId": "6e46c483-ffde-43ff-8ef6-9665e0580360"
      },
      "outputs": [
        {
          "name": "stdout",
          "output_type": "stream",
          "text": [
            "62/62 [==============================] - 0s 1ms/step\n"
          ]
        }
      ],
      "source": [
        "def generate_synthetic_data(generator, num_samples, latent_dim):\n",
        "    noise = np.random.normal(0, 1, (num_samples, latent_dim))\n",
        "    synthetic_data = generator.predict(noise)\n",
        "    return synthetic_data\n",
        "\n",
        "# Generate n synthetic fraud samples\n",
        "synthetic_fraud_data = generate_synthetic_data(generator, 1983, latent_dim)\n",
        "synthetic_fraud_df = pd.DataFrame(synthetic_fraud_data, columns=fraud.drop('Class', axis=1).columns)\n",
        "synthetic_fraud_df['Class'] = 1\n"
      ]
    },
    {
      "cell_type": "code",
      "execution_count": 17,
      "metadata": {
        "colab": {
          "base_uri": "https://localhost:8080/"
        },
        "id": "T9s1nCLvwvew",
        "outputId": "5d432aed-3d44-492f-bef5-fd98c4eb8f14"
      },
      "outputs": [
        {
          "name": "stdout",
          "output_type": "stream",
          "text": [
            "Class\n",
            "0.0    1983\n",
            "1.0    1983\n",
            "Name: count, dtype: int64\n"
          ]
        }
      ],
      "source": [
        "# Merge synthetic fraud data with non-fraud data\n",
        "augmented_data = pd.concat([non_fraud, synthetic_fraud_df], axis=0)\n",
        "print(augmented_data['Class'].value_counts())\n"
      ]
    }
  ],
  "metadata": {
    "accelerator": "TPU",
    "colab": {
      "gpuType": "V28",
      "provenance": []
    },
    "kernelspec": {
      "display_name": "Python 3",
      "name": "python3"
    },
    "language_info": {
      "name": "python"
    }
  },
  "nbformat": 4,
  "nbformat_minor": 0
}
